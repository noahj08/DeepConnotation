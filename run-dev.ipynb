{
 "cells": [
  {
   "cell_type": "code",
   "execution_count": 1,
   "metadata": {},
   "outputs": [
    {
     "name": "stderr",
     "output_type": "stream",
     "text": [
      "C:\\Users\\kathe\\Anaconda3\\envs\\CS230 Project\\lib\\site-packages\\requests\\__init__.py:91: RequestsDependencyWarning: urllib3 (1.24.1) or chardet (3.0.4) doesn't match a supported version!\n",
      "  RequestsDependencyWarning)\n"
     ]
    }
   ],
   "source": [
    "import numpy as np\n",
    "import json\n",
    "import tensorflow as tf\n",
    "%load_ext autoreload\n",
    "%autoreload 2"
   ]
  },
  {
   "cell_type": "code",
   "execution_count": 2,
   "metadata": {},
   "outputs": [],
   "source": [
    "import medium_show_and_tell_caption_generator\n",
    "from medium_show_and_tell_caption_generator import inference\n",
    "from medium_show_and_tell_caption_generator import caption_generator\n",
    "from medium_show_and_tell_caption_generator import model\n",
    "from medium_show_and_tell_caption_generator import vocabulary"
   ]
  },
  {
   "cell_type": "code",
   "execution_count": 3,
   "metadata": {},
   "outputs": [],
   "source": [
    "#read in input files: list of image paths\n",
    "devNum = 8491\n",
    "input_files=[]\n",
    "input_dev = r'D:\\CS230 Project\\dev_img\\img'\n",
    "for i in range (devNum):\n",
    "    input_files.append(input_dev+str(i)+'.jpg')"
   ]
  },
  {
   "cell_type": "code",
   "execution_count": 6,
   "metadata": {
    "scrolled": true
   },
   "outputs": [
    {
     "name": "stdout",
     "output_type": "stream",
     "text": [
      "finished imgs[8400, 8491]/8491\n",
      "\n"
     ]
    }
   ],
   "source": [
    "block_size = 100\n",
    "num_iter_dev = devNum//block_size\n",
    "remainder_dev = devNum%block_size\n",
    "\n",
    "#run blocks of captioning\n",
    "with open('dev_enc.json') as json_data:\n",
    "    encodings_dev=np.asarray(json.load(json_data))\n",
    "\n",
    "for i in range(num_iter_dev):\n",
    "    start_dev = i*block_size \n",
    "    end_dev = i*block_size +block_size\n",
    "    encodings_dev= np.vstack((encodings_dev,inference.main(input_files[start_dev:end_dev])))\n",
    "    with open('dev_enc.json', 'w') as outfile:\n",
    "        json.dump(encodings_dev.tolist(),outfile)\n",
    "    print(\"finished imgs[%d, %d]/%d\\n\" % (start_dev, end_dev, devNum))\n",
    "\n",
    "#finish remainder of captioning\n",
    "start_dev = devNum - remainder_dev\n",
    "end_dev = devNum\n",
    "encodings_dev= np.vstack((encodings_dev,inference.main(input_files[start_dev:end_dev])))\n",
    "with open('dev_enc.json', 'w') as outfile:\n",
    "        json.dump(encodings_dev.tolist(),outfile)\n",
    "print(\"finished imgs[%d, %d]/%d\\n\" % (start_dev, end_dev, devNum))        "
   ]
  },
  {
   "cell_type": "code",
   "execution_count": null,
   "metadata": {},
   "outputs": [],
   "source": [
    "with open('dev_enc.json') as json_data:\n",
    "    d = json.load(json_data)\n",
    "arr=(np.array(d)).T\n",
    "arr.shape"
   ]
  }
 ],
 "metadata": {
  "kernelspec": {
   "display_name": "Python 3",
   "language": "python",
   "name": "python3"
  },
  "language_info": {
   "codemirror_mode": {
    "name": "ipython",
    "version": 3
   },
   "file_extension": ".py",
   "mimetype": "text/x-python",
   "name": "python",
   "nbconvert_exporter": "python",
   "pygments_lexer": "ipython3",
   "version": "3.6.6"
  }
 },
 "nbformat": 4,
 "nbformat_minor": 2
}
