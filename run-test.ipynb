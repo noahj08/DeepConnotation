{
 "cells": [
  {
   "cell_type": "code",
   "execution_count": 2,
   "metadata": {},
   "outputs": [
    {
     "name": "stderr",
     "output_type": "stream",
     "text": [
      "C:\\Users\\kathe\\Anaconda3\\envs\\CS230 Project\\lib\\site-packages\\requests\\__init__.py:91: RequestsDependencyWarning: urllib3 (1.24.1) or chardet (3.0.4) doesn't match a supported version!\n",
      "  RequestsDependencyWarning)\n"
     ]
    }
   ],
   "source": [
    "import numpy as np\n",
    "import json\n",
    "import tensorflow as tf\n",
    "%load_ext autoreload\n",
    "%autoreload 2"
   ]
  },
  {
   "cell_type": "code",
   "execution_count": 3,
   "metadata": {},
   "outputs": [],
   "source": [
    "import medium_show_and_tell_caption_generator\n",
    "from medium_show_and_tell_caption_generator import inference\n",
    "from medium_show_and_tell_caption_generator import caption_generator\n",
    "from medium_show_and_tell_caption_generator import model\n",
    "from medium_show_and_tell_caption_generator import vocabulary"
   ]
  },
  {
   "cell_type": "code",
   "execution_count": 5,
   "metadata": {},
   "outputs": [],
   "source": [
    "testNum = 8492\n",
    "\n",
    "input_files=[]\n",
    "input_test = r'D:\\CS230 Project\\test_img\\img'\n",
    "for i in range (testNum):\n",
    "    input_files.append(input_test+str(i)+'.jpg')"
   ]
  },
  {
   "cell_type": "code",
   "execution_count": 6,
   "metadata": {
    "scrolled": true
   },
   "outputs": [
    {
     "name": "stdout",
     "output_type": "stream",
     "text": [
      "finished imgs[5700, 5800]/8492\n",
      "\n",
      "finished imgs[5800, 5900]/8492\n",
      "\n",
      "finished imgs[5900, 6000]/8492\n",
      "\n",
      "finished imgs[6000, 6100]/8492\n",
      "\n",
      "finished imgs[6100, 6200]/8492\n",
      "\n",
      "finished imgs[6200, 6300]/8492\n",
      "\n",
      "finished imgs[6300, 6400]/8492\n",
      "\n",
      "finished imgs[6400, 6500]/8492\n",
      "\n",
      "finished imgs[6500, 6600]/8492\n",
      "\n",
      "finished imgs[6600, 6700]/8492\n",
      "\n",
      "finished imgs[6700, 6800]/8492\n",
      "\n",
      "finished imgs[6800, 6900]/8492\n",
      "\n",
      "finished imgs[6900, 7000]/8492\n",
      "\n",
      "finished imgs[7000, 7100]/8492\n",
      "\n",
      "finished imgs[7100, 7200]/8492\n",
      "\n",
      "finished imgs[7200, 7300]/8492\n",
      "\n",
      "finished imgs[7300, 7400]/8492\n",
      "\n",
      "finished imgs[7400, 7500]/8492\n",
      "\n",
      "finished imgs[7500, 7600]/8492\n",
      "\n",
      "finished imgs[7600, 7700]/8492\n",
      "\n",
      "finished imgs[7700, 7800]/8492\n",
      "\n",
      "finished imgs[7800, 7900]/8492\n",
      "\n",
      "finished imgs[7900, 8000]/8492\n",
      "\n",
      "finished imgs[8000, 8100]/8492\n",
      "\n",
      "finished imgs[8100, 8200]/8492\n",
      "\n",
      "finished imgs[8200, 8300]/8492\n",
      "\n",
      "finished imgs[8300, 8400]/8492\n",
      "\n",
      "finished imgs[8400, 8500]/8492\n",
      "\n"
     ]
    },
    {
     "ename": "ValueError",
     "evalue": "all the input array dimensions except for the concatenation axis must match exactly",
     "output_type": "error",
     "traceback": [
      "\u001b[1;31m---------------------------------------------------------------------------\u001b[0m",
      "\u001b[1;31mValueError\u001b[0m                                Traceback (most recent call last)",
      "\u001b[1;32m<ipython-input-6-3a5d9134e726>\u001b[0m in \u001b[0;36m<module>\u001b[1;34m\u001b[0m\n\u001b[0;32m     10\u001b[0m     \u001b[0mstart_test\u001b[0m \u001b[1;33m=\u001b[0m\u001b[1;36m5700\u001b[0m\u001b[1;33m+\u001b[0m\u001b[0mi\u001b[0m\u001b[1;33m*\u001b[0m\u001b[0mblock_size\u001b[0m\u001b[1;33m\u001b[0m\u001b[0m\n\u001b[0;32m     11\u001b[0m     \u001b[0mend_test\u001b[0m \u001b[1;33m=\u001b[0m \u001b[1;36m5700\u001b[0m\u001b[1;33m+\u001b[0m\u001b[0mi\u001b[0m\u001b[1;33m*\u001b[0m\u001b[0mblock_size\u001b[0m \u001b[1;33m+\u001b[0m\u001b[0mblock_size\u001b[0m\u001b[1;33m\u001b[0m\u001b[0m\n\u001b[1;32m---> 12\u001b[1;33m     \u001b[0mencodings_test\u001b[0m\u001b[1;33m=\u001b[0m \u001b[0mnp\u001b[0m\u001b[1;33m.\u001b[0m\u001b[0mvstack\u001b[0m\u001b[1;33m(\u001b[0m\u001b[1;33m(\u001b[0m\u001b[0mencodings_test\u001b[0m\u001b[1;33m,\u001b[0m\u001b[0minference\u001b[0m\u001b[1;33m.\u001b[0m\u001b[0mmain\u001b[0m\u001b[1;33m(\u001b[0m\u001b[0minput_files\u001b[0m\u001b[1;33m[\u001b[0m\u001b[0mstart_test\u001b[0m\u001b[1;33m:\u001b[0m\u001b[0mend_test\u001b[0m\u001b[1;33m]\u001b[0m\u001b[1;33m)\u001b[0m\u001b[1;33m)\u001b[0m\u001b[1;33m)\u001b[0m\u001b[1;33m\u001b[0m\u001b[0m\n\u001b[0m\u001b[0;32m     13\u001b[0m     \u001b[1;32mwith\u001b[0m \u001b[0mopen\u001b[0m\u001b[1;33m(\u001b[0m\u001b[1;34m'test_enc1.json'\u001b[0m\u001b[1;33m,\u001b[0m \u001b[1;34m'w'\u001b[0m\u001b[1;33m)\u001b[0m \u001b[1;32mas\u001b[0m \u001b[0moutfile\u001b[0m\u001b[1;33m:\u001b[0m\u001b[1;33m\u001b[0m\u001b[0m\n\u001b[0;32m     14\u001b[0m         \u001b[0mjson\u001b[0m\u001b[1;33m.\u001b[0m\u001b[0mdump\u001b[0m\u001b[1;33m(\u001b[0m\u001b[0mencodings_test\u001b[0m\u001b[1;33m.\u001b[0m\u001b[0mtolist\u001b[0m\u001b[1;33m(\u001b[0m\u001b[1;33m)\u001b[0m\u001b[1;33m,\u001b[0m\u001b[0moutfile\u001b[0m\u001b[1;33m)\u001b[0m\u001b[1;33m\u001b[0m\u001b[0m\n",
      "\u001b[1;32m~\\Anaconda3\\envs\\CS230 Project\\lib\\site-packages\\numpy\\core\\shape_base.py\u001b[0m in \u001b[0;36mvstack\u001b[1;34m(tup)\u001b[0m\n\u001b[0;32m    232\u001b[0m \u001b[1;33m\u001b[0m\u001b[0m\n\u001b[0;32m    233\u001b[0m     \"\"\"\n\u001b[1;32m--> 234\u001b[1;33m     \u001b[1;32mreturn\u001b[0m \u001b[0m_nx\u001b[0m\u001b[1;33m.\u001b[0m\u001b[0mconcatenate\u001b[0m\u001b[1;33m(\u001b[0m\u001b[1;33m[\u001b[0m\u001b[0matleast_2d\u001b[0m\u001b[1;33m(\u001b[0m\u001b[0m_m\u001b[0m\u001b[1;33m)\u001b[0m \u001b[1;32mfor\u001b[0m \u001b[0m_m\u001b[0m \u001b[1;32min\u001b[0m \u001b[0mtup\u001b[0m\u001b[1;33m]\u001b[0m\u001b[1;33m,\u001b[0m \u001b[1;36m0\u001b[0m\u001b[1;33m)\u001b[0m\u001b[1;33m\u001b[0m\u001b[0m\n\u001b[0m\u001b[0;32m    235\u001b[0m \u001b[1;33m\u001b[0m\u001b[0m\n\u001b[0;32m    236\u001b[0m \u001b[1;32mdef\u001b[0m \u001b[0mhstack\u001b[0m\u001b[1;33m(\u001b[0m\u001b[0mtup\u001b[0m\u001b[1;33m)\u001b[0m\u001b[1;33m:\u001b[0m\u001b[1;33m\u001b[0m\u001b[0m\n",
      "\u001b[1;31mValueError\u001b[0m: all the input array dimensions except for the concatenation axis must match exactly"
     ]
    }
   ],
   "source": [
    "block_size = 100\n",
    "num_iter_test = testNum//block_size\n",
    "remainder_test = testNum%block_size\n",
    "\n",
    "# #run blocks of captioning\n",
    "with open('test_enc.json') as json_data:\n",
    "    encodings_test=np.asarray(json.load(json_data))\n",
    "\n",
    "for i in range(num_iter_test):\n",
    "    start_test i*block_size \n",
    "    end_test = i*block_size +block_size\n",
    "    encodings_test= np.vstack((encodings_test,inference.main(input_files[start_test:end_test])))\n",
    "    with open('test_enc.json', 'w') as outfile:\n",
    "        json.dump(encodings_test.tolist(),outfile)\n",
    "    print(\"finished imgs[%d, %d]/%d\\n\" % (start_test, end_test, testNum))\n",
    "\n",
    "#finish remainder of captioning\n",
    "start_test = testNum - remainder_test\n",
    "end_test =testNum\n",
    "encodings_test= np.vstack((encodings_test,inference.main(input_files[start_test:end_test])))\n",
    "with open('test_enc.json', 'w') as outfile:\n",
    "        json.dump(encodings_test.tolist(),outfile)\n",
    "print(\"finished imgs[%d, %d]/%d\\n\" % (start_test, end_test, testNum))        "
   ]
  },
  {
   "cell_type": "code",
   "execution_count": 8,
   "metadata": {},
   "outputs": [
    {
     "data": {
      "text/plain": [
       "(1024, 8492)"
      ]
     },
     "execution_count": 8,
     "metadata": {},
     "output_type": "execute_result"
    }
   ],
   "source": [
    "with open('test_enc.json') as json_data:\n",
    "    d = json.load(json_data)\n",
    "arr=(np.array(d)).T\n",
    "arr.shape"
   ]
  },
  {
   "cell_type": "code",
   "execution_count": 12,
   "metadata": {},
   "outputs": [],
   "source": []
  },
  {
   "cell_type": "code",
   "execution_count": null,
   "metadata": {},
   "outputs": [],
   "source": []
  },
  {
   "cell_type": "code",
   "execution_count": null,
   "metadata": {},
   "outputs": [],
   "source": []
  }
 ],
 "metadata": {
  "kernelspec": {
   "display_name": "Python 3",
   "language": "python",
   "name": "python3"
  },
  "language_info": {
   "codemirror_mode": {
    "name": "ipython",
    "version": 3
   },
   "file_extension": ".py",
   "mimetype": "text/x-python",
   "name": "python",
   "nbconvert_exporter": "python",
   "pygments_lexer": "ipython3",
   "version": "3.6.6"
  }
 },
 "nbformat": 4,
 "nbformat_minor": 2
}
