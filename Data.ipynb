{
 "cells": [
  {
   "cell_type": "code",
   "execution_count": 2,
   "metadata": {},
   "outputs": [],
   "source": [
    "import pandas as pd\n",
    "import numpy as np\n",
    "import glob\n",
    "import os\n",
    "#from PIL import Image\n",
    "import urllib.request\n",
    "import requests\n",
    "import io\n",
    "import cv2\n",
    "import json\n",
    "#import skimage.transform\n",
    "#import scipy.misc\n",
    "import imageio\n",
    "from PIL import Image\n",
    "import matplotlib.image as img"
   ]
  },
  {
   "cell_type": "code",
   "execution_count": 40,
   "metadata": {},
   "outputs": [],
   "source": [
    "all_data = pd.DataFrame()\n",
    "#path to csv files\n",
    "path=(r\"C:/Users/kathe/Documents/CS230/project/proj/\")\n",
    "i=0\n",
    "merged=None\n",
    "for f in glob.glob(\"**/*.csv\"):\n",
    "    if merged is None:\n",
    "        merged = pd.read_csv(f,header=None)\n",
    "    else:\n",
    "        merged=merged.append(pd.read_csv(f,header=None), sort=False, ignore_index=True)\n",
    "#result=pd.concat(merged, ignore_index=True, sort=False)\n",
    "merged.to_csv('merged.csv',index=False, header=False)"
   ]
  },
  {
   "cell_type": "code",
   "execution_count": 134,
   "metadata": {
    "scrolled": true
   },
   "outputs": [
    {
     "name": "stdout",
     "output_type": "stream",
     "text": [
      "               0                                                  1  2  3\n",
      "0      amusement  http://farm4.staticflickr.com/3935/15670302655...  5  0\n",
      "1      amusement  http://farm9.staticflickr.com/8519/8667561987_...  5  0\n",
      "2      amusement  http://farm4.staticflickr.com/3802/9566768469_...  0  5\n",
      "3      amusement  http://farm9.staticflickr.com/8231/8565444625_...  3  2\n",
      "4      amusement  http://farm4.staticflickr.com/3736/9929371604_...  2  3\n",
      "5      amusement  http://farm6.staticflickr.com/5336/9472957715_...  1  4\n",
      "6      amusement  http://farm9.staticflickr.com/8183/8095358518_...  0  5\n",
      "7      amusement  http://farm8.staticflickr.com/7107/7814376988_...  5  0\n",
      "8      amusement  http://farm8.staticflickr.com/7211/7025985527_...  3  2\n",
      "9      amusement  http://farm8.staticflickr.com/7314/12386606195...  5  0\n",
      "10     amusement  http://farm9.staticflickr.com/8508/8580642223_...  3  2\n",
      "11     amusement  http://farm6.staticflickr.com/5494/10841361643...  1  4\n",
      "12     amusement  http://farm8.staticflickr.com/7405/11090017986...  4  1\n",
      "13     amusement  http://farm4.staticflickr.com/3820/10398653436...  2  3\n",
      "14     amusement  http://farm8.staticflickr.com/7232/7060658621_...  4  1\n",
      "15     amusement  http://farm8.staticflickr.com/7132/7472625510_...  4  1\n",
      "16     amusement  http://farm4.staticflickr.com/3745/9564205361_...  5  0\n",
      "17     amusement  http://farm9.staticflickr.com/8483/8258845697_...  2  3\n",
      "18     amusement  http://farm8.staticflickr.com/7299/8734264735_...  0  5\n",
      "19     amusement  http://farm8.staticflickr.com/7223/7275711582_...  3  2\n",
      "20     amusement  http://farm4.staticflickr.com/3910/14236821630...  4  1\n",
      "21     amusement  http://farm9.staticflickr.com/8003/7007116186_...  2  3\n",
      "22     amusement  http://farm6.staticflickr.com/5275/6934059692_...  5  0\n",
      "23     amusement  http://farm8.staticflickr.com/7192/6931596869_...  4  1\n",
      "24     amusement  http://farm6.staticflickr.com/5164/14030393584...  4  1\n",
      "25     amusement  http://farm8.staticflickr.com/7205/6948126799_...  2  3\n",
      "26     amusement  http://farm8.staticflickr.com/7239/6900609352_...  5  0\n",
      "27     amusement  http://farm8.staticflickr.com/7113/7862910412_...  1  4\n",
      "28     amusement  http://farm4.staticflickr.com/3804/11789822013...  3  2\n",
      "29     amusement  http://farm6.staticflickr.com/5584/14257307525...  3  2\n",
      "...          ...                                                ... .. ..\n",
      "89793    sadness  http://farm6.staticflickr.com/5540/10725907915...  4  1\n",
      "89794    sadness  http://farm4.staticflickr.com/3632/3289521518_...  5  0\n",
      "89795    sadness  http://farm3.staticflickr.com/2707/4260978830_...  3  2\n",
      "89796    sadness  http://farm8.staticflickr.com/7368/10930835896...  4  1\n",
      "89797    sadness  http://farm9.staticflickr.com/8171/7933659748_...  5  0\n",
      "89798    sadness  http://farm8.staticflickr.com/7034/6405988137_...  5  0\n",
      "89799    sadness  http://farm9.staticflickr.com/8100/8555630199_...  4  1\n",
      "89800    sadness  http://farm8.staticflickr.com/7311/13112702505...  5  0\n",
      "89801    sadness  http://farm8.staticflickr.com/7273/7418271754_...  3  2\n",
      "89802    sadness  http://farm3.staticflickr.com/2438/4349581016_...  4  1\n",
      "89803    sadness  http://farm4.staticflickr.com/3755/11195097323...  4  1\n",
      "89804    sadness  http://farm7.staticflickr.com/6186/6047460512_...  1  4\n",
      "89805    sadness  http://farm7.staticflickr.com/6193/6095099423_...  4  1\n",
      "89806    sadness  http://farm4.staticflickr.com/3648/3587469402_...  1  4\n",
      "89807    sadness  http://farm5.staticflickr.com/4102/4789945086_...  4  1\n",
      "89808    sadness  http://farm8.staticflickr.com/7163/6577448951_...  5  0\n",
      "89809    sadness  http://farm9.staticflickr.com/8385/8477660553_...  2  3\n",
      "89810    sadness  http://farm4.staticflickr.com/3205/3144770420_...  3  2\n",
      "89811    sadness  http://farm5.staticflickr.com/4138/4851247666_...  3  2\n",
      "89812    sadness  http://farm4.staticflickr.com/3676/13589610805...  4  1\n",
      "89813    sadness  http://farm3.staticflickr.com/2668/4123499375_...  1  4\n",
      "89814    sadness  http://farm4.staticflickr.com/3927/15332846969...  0  5\n",
      "89815    sadness  http://farm8.staticflickr.com/7137/7444714620_...  2  3\n",
      "89816    sadness  http://farm9.staticflickr.com/8240/8642464608_...  4  1\n",
      "89817    sadness  http://farm9.staticflickr.com/8666/15534054194...  1  4\n",
      "89818    sadness  http://farm8.staticflickr.com/7139/7784994970_...  5  0\n",
      "89819    sadness  http://farm3.staticflickr.com/2491/3777199036_...  5  0\n",
      "89820    sadness  http://farm4.staticflickr.com/3276/2637073094_...  2  3\n",
      "89821    sadness  http://farm4.staticflickr.com/3877/14617399173...  4  1\n",
      "89822    sadness  http://farm8.staticflickr.com/7054/6862416036_...  1  4\n",
      "\n",
      "[89823 rows x 4 columns]\n"
     ]
    }
   ],
   "source": [
    "data=pd.read_csv(r\"C:/Users/kathe/Documents/CS230/project/proj/merged.csv\", header=None)\n",
    "print(data)"
   ]
  },
  {
   "cell_type": "code",
   "execution_count": 1,
   "metadata": {
    "scrolled": true
   },
   "outputs": [
    {
     "ename": "NameError",
     "evalue": "name 'data' is not defined",
     "output_type": "error",
     "traceback": [
      "\u001b[1;31m---------------------------------------------------------------------------\u001b[0m",
      "\u001b[1;31mNameError\u001b[0m                                 Traceback (most recent call last)",
      "\u001b[1;32m<ipython-input-1-072e71395cc7>\u001b[0m in \u001b[0;36m<module>\u001b[1;34m\u001b[0m\n\u001b[0;32m      5\u001b[0m \u001b[0mtemp_path\u001b[0m\u001b[1;33m=\u001b[0m\u001b[1;34mr'C:\\Users\\noahj\\Documents\\tempImg.jpg'\u001b[0m\u001b[1;33m;\u001b[0m\u001b[1;33m\u001b[0m\u001b[1;33m\u001b[0m\u001b[0m\n\u001b[0;32m      6\u001b[0m \u001b[0mbad\u001b[0m\u001b[1;33m=\u001b[0m\u001b[1;34mr'C:\\Users\\noahj\\Documents\\BadImage.jpg'\u001b[0m\u001b[1;33m\u001b[0m\u001b[1;33m\u001b[0m\u001b[0m\n\u001b[1;32m----> 7\u001b[1;33m \u001b[0mX_names\u001b[0m\u001b[1;33m=\u001b[0m\u001b[0mstrs\u001b[0m \u001b[1;33m=\u001b[0m \u001b[1;33m[\u001b[0m\u001b[1;34m\"\"\u001b[0m \u001b[1;32mfor\u001b[0m \u001b[0mx\u001b[0m \u001b[1;32min\u001b[0m \u001b[0mrange\u001b[0m\u001b[1;33m(\u001b[0m\u001b[0mdata\u001b[0m\u001b[1;33m.\u001b[0m\u001b[0mshape\u001b[0m\u001b[1;33m[\u001b[0m\u001b[1;36m0\u001b[0m\u001b[1;33m]\u001b[0m\u001b[1;33m)\u001b[0m\u001b[1;33m]\u001b[0m\u001b[1;33m\u001b[0m\u001b[1;33m\u001b[0m\u001b[0m\n\u001b[0m\u001b[0;32m      8\u001b[0m \u001b[0mY\u001b[0m\u001b[1;33m=\u001b[0m\u001b[0mnp\u001b[0m\u001b[1;33m.\u001b[0m\u001b[0mzeros\u001b[0m\u001b[1;33m(\u001b[0m\u001b[1;33m(\u001b[0m\u001b[0mdata\u001b[0m\u001b[1;33m.\u001b[0m\u001b[0mshape\u001b[0m\u001b[1;33m[\u001b[0m\u001b[1;36m0\u001b[0m\u001b[1;33m]\u001b[0m\u001b[1;33m,\u001b[0m\u001b[1;36m1\u001b[0m\u001b[1;33m)\u001b[0m\u001b[1;33m)\u001b[0m \u001b[1;31m#each row is a label (0-7)\u001b[0m\u001b[1;33m\u001b[0m\u001b[1;33m\u001b[0m\u001b[0m\n\u001b[0;32m      9\u001b[0m \u001b[0mnum\u001b[0m\u001b[1;33m=\u001b[0m\u001b[1;36m0\u001b[0m\u001b[1;33m\u001b[0m\u001b[1;33m\u001b[0m\u001b[0m\n",
      "\u001b[1;31mNameError\u001b[0m: name 'data' is not defined"
     ]
    }
   ],
   "source": [
    "images=[];\n",
    "labels=['amusement','anger','awe','contentment','disgust','excitement','fear','sadness'];\n",
    "####img_path is a folder YOU MAKE, where all of your images will be stored to, make sure that r stays in front of the quote ######\n",
    "img_path= r'C:\\DeepConnotationDataset'\n",
    "temp_path=r'C:\\Users\\noahj\\Documents\\tempImg.jpg';\n",
    "bad=r'C:\\Users\\noahj\\Documents\\BadImage.jpg'\n",
    "X_names=strs = [\"\" for x in range(data.shape[0])]\n",
    "Y=np.zeros((data.shape[0],1)) #each row is a label (0-7)\n",
    "num=0\n",
    "size=(32,32)\n",
    "for i in range (data.shape[0]):\n",
    "    URL=(data[1][i])\n",
    "    try:\n",
    "        with urllib.request.urlopen(URL) as url:\n",
    "            name='\\img'+str(num)+'.jpg'\n",
    "            pic = url.read();\n",
    "            temp = open(temp_path, 'wb').write(pic)\n",
    "            a = cv2.imread(temp_path)\n",
    "            b = cv2.imread(bad)\n",
    "            if (not(a.shape == b.shape and not(np.bitwise_xor(a,b).any()))):\n",
    "                with open(img_path+name, 'wb') as f:\n",
    "                    f.write(pic)\n",
    "                    img = Image.open(img_path+name)\n",
    "                    img = img.resize(size, Image.ANTIALIAS)\n",
    "                    img.save(img_path+name) \n",
    "                    #save labels\n",
    "                    X_names[num] = name\n",
    "                    Y[num]=labels.index(data[0][i])\n",
    "                    num=num+1\n",
    "    except:\n",
    "        pass\n",
    "\n",
    "print(\"Number of images: \", num)\n"
   ]
  },
  {
   "cell_type": "code",
   "execution_count": 136,
   "metadata": {},
   "outputs": [
    {
     "name": "stdout",
     "output_type": "stream",
     "text": [
      "Number of images:  84923\n"
     ]
    }
   ],
   "source": [
    "Y=Y[:num]\n",
    "X=np.asarray(range(num))\n",
    "idx = np.random.permutation(len(Y))\n",
    "x,y = X[idx], Y[idx]\n",
    "\n",
    "export = json.dumps({'X':X.astype(int).tolist(),'Y':Y.astype(int).tolist(),'idx':idx.tolist()}, separators=(',', ':'), indent=4)\n",
    "f = open(\"initial.json\",\"w\")\n",
    "f.write(export)\n",
    "f.close()\n",
    "print(\"Number of images: \",num)"
   ]
  },
  {
   "cell_type": "code",
   "execution_count": 137,
   "metadata": {},
   "outputs": [],
   "source": [
    "split1 = round(len(y)*.8)\n",
    "split2 = split1 + round(len(y)*.1)\n",
    "\n",
    "#Train: 80% data\n",
    "trainX = x[:split1]\n",
    "trainY = y[:split1]\n",
    "#Dev set: 10% data\n",
    "devX = x[split1:split2]\n",
    "devY = y[split1:split2]\n",
    "#Test set: 10% data\n",
    "testX = x[split2:len(Y)]\n",
    "testY = y[split2:len(Y)]"
   ]
  },
  {
   "cell_type": "code",
   "execution_count": 138,
   "metadata": {},
   "outputs": [],
   "source": [
    "#write to json\n",
    "export = json.dumps({'trainX':trainX.tolist(),'trainY':trainY[:,0].astype(int).tolist(),'devX':devX.tolist(),'devY':devY[:,0].astype(int).tolist(),'testX':testX.tolist(),'testY':testY[:,0].astype(int).tolist()}, separators=(',', ':'), indent=4)\n",
    "f = open(\"labels.json\",\"w\")\n",
    "f.write(export)\n",
    "f.close()"
   ]
  },
  {
   "cell_type": "code",
   "execution_count": 143,
   "metadata": {},
   "outputs": [],
   "source": [
    "#read from json\n",
    "with open('initial.json') as json_data:\n",
    "    d = json.load(json_data)\n",
    "#(d['X'])\n",
    "#labels=\n",
    "#0:'amusement',\n",
    "# 1:'anger',\n",
    "# 2:'awe',\n",
    "# 3:'contentment',\n",
    "# 4:'disgust',\n",
    "# 5:'excitement\n",
    "# 6:'fear',\n",
    "# 7:'sadness'\n",
    "export = json.dumps({'idx':idx.tolist()}, separators=(',', ':'), indent=4)\n",
    "f = open(\"idx.json\",\"w\")\n",
    "f.write(export)\n",
    "f.close()"
   ]
  },
  {
   "cell_type": "code",
   "execution_count": 152,
   "metadata": {},
   "outputs": [],
   "source": [
    "def moveImg(i, arr, flder):\n",
    "    curr_path = 'D:\\CS230 Project\\img' + str(arr[i]) + '.jpg'\n",
    "    new_path = 'D:\\CS230 Project\\\\'+flder+'_img\\img' + str(i) + '.jpg'\n",
    "    os.rename(curr_path, new_path)"
   ]
  },
  {
   "cell_type": "code",
   "execution_count": 153,
   "metadata": {},
   "outputs": [],
   "source": [
    "#export images to train, dev, test folders\n",
    "for i in range(len(trainX)):\n",
    "    moveImg(i, trainX,'train')\n",
    "for i in range(len(devX)):\n",
    "    moveImg(i, devX,'dev')\n",
    "for i in range(len(testX)):\n",
    "    moveImg(i, testX,'test')"
   ]
  },
  {
   "cell_type": "code",
   "execution_count": 121,
   "metadata": {},
   "outputs": [],
   "source": [
    "img = Image.open(temp_path)\n",
    "img = img.resize(size, Image.ANTIALIAS)\n",
    "img.save(temp_path) "
   ]
  },
  {
   "cell_type": "code",
   "execution_count": null,
   "metadata": {},
   "outputs": [],
   "source": []
  },
  {
   "cell_type": "code",
   "execution_count": 24,
   "metadata": {},
   "outputs": [
    {
     "name": "stdout",
     "output_type": "stream",
     "text": [
      "starting\n",
      "I am done, ezboi\n"
     ]
    }
   ],
   "source": [
    "import json\n",
    "\n",
    "def resize_image(img_name, shape):\n",
    "    img = Image.open(img_name)\n",
    "    img = img.resize(shape, Image.ANTIALIAS)\n",
    "    img.save(img_name)\n",
    "\n",
    "print(\"starting\")\n",
    "shape = (32,32)\n",
    "img_path_train = \"C:\\\\Users\\\\noahj\\\\cs230\\\\CS230 Project\\\\test_img\\\\\"\n",
    "train_size = 100000\n",
    "for num in range(train_size):\n",
    "    img_name = img_path_train + \"img\" + str(num) + \".jpg\"\n",
    "    resize_image(img_name, shape)\n",
    "print(\"I am done\")"
   ]
  },
  {
   "cell_type": "code",
   "execution_count": null,
   "metadata": {},
   "outputs": [],
   "source": []
  }
 ],
 "metadata": {
  "kernelspec": {
   "display_name": "Python 3",
   "language": "python",
   "name": "python3"
  },
  "language_info": {
   "codemirror_mode": {
    "name": "ipython",
    "version": 3
   },
   "file_extension": ".py",
   "mimetype": "text/x-python",
   "name": "python",
   "nbconvert_exporter": "python",
   "pygments_lexer": "ipython3",
   "version": "3.6.7"
  }
 },
 "nbformat": 4,
 "nbformat_minor": 2
}
